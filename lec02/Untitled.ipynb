{
 "cells": [
  {
   "cell_type": "code",
   "execution_count": 1,
   "id": "4e1e63d8-1410-45d5-a07c-8abd98d196fd",
   "metadata": {},
   "outputs": [
    {
     "name": "stdout",
     "output_type": "stream",
     "text": [
      "Help on module homework2:\n",
      "\n",
      "NAME\n",
      "    homework2\n",
      "\n",
      "DESCRIPTION\n",
      "    This homework defines one method, called \"arithmetic\".\n",
      "    that method, type `help homework2.arithmetic`.\n",
      "\n",
      "FUNCTIONS\n",
      "    arithmetic(x, y)\n",
      "        Modify this code so that it performs one of four possible functions,\n",
      "        as specified in the following table:\n",
      "\n",
      "                            isinstance(x,str)  isinstance(x,float)\n",
      "        isinstance(y,str)   return x+y         return str(x)+y\n",
      "        isinstance(y,float) return x*int(y)    return x*y\n",
      "\n",
      "FILE\n",
      "    c:\\users\\user\\intro_speech_understanding\\lec02\\homework2.py\n",
      "\n",
      "\n"
     ]
    }
   ],
   "source": [
    "import homework2\n",
    "help(homework2)"
   ]
  },
  {
   "cell_type": "code",
   "execution_count": 3,
   "id": "8c6cdf0b-11f1-4570-845b-5d886649d9d1",
   "metadata": {},
   "outputs": [
    {
     "data": {
      "text/plain": [
       "0"
      ]
     },
     "execution_count": 3,
     "metadata": {},
     "output_type": "execute_result"
    }
   ],
   "source": [
    "homework2.arithmetic(0,0)"
   ]
  },
  {
   "cell_type": "code",
   "execution_count": 7,
   "id": "96131edf-4fd4-43f2-b2e8-74fa252a41d9",
   "metadata": {},
   "outputs": [
    {
     "data": {
      "text/plain": [
       "<module 'homework2' from 'C:\\\\Users\\\\User\\\\intro_speech_understanding\\\\lec02\\\\homework2.py'>"
      ]
     },
     "execution_count": 7,
     "metadata": {},
     "output_type": "execute_result"
    }
   ],
   "source": [
    "import importlib;\n",
    "importlib.reload(homework2)"
   ]
  },
  {
   "cell_type": "code",
   "execution_count": 8,
   "id": "3c656a3d-6cdc-495a-af72-1469d630df06",
   "metadata": {},
   "outputs": [
    {
     "data": {
      "text/plain": [
       "'ffbar'"
      ]
     },
     "execution_count": 8,
     "metadata": {},
     "output_type": "execute_result"
    }
   ],
   "source": [
    "homework2.arithmetic(\"ff\",\"bar\")"
   ]
  },
  {
   "cell_type": "code",
   "execution_count": 9,
   "id": "81d829da-4248-48ce-b286-3f7ce0a2fe5d",
   "metadata": {},
   "outputs": [
    {
     "data": {
      "text/plain": [
       "'ffffff'"
      ]
     },
     "execution_count": 9,
     "metadata": {},
     "output_type": "execute_result"
    }
   ],
   "source": [
    "homework2.arithmetic(\"ff\",3.12)"
   ]
  },
  {
   "cell_type": "code",
   "execution_count": 10,
   "id": "07a43162-aa90-4108-ab8f-9f5e5c04a3e8",
   "metadata": {},
   "outputs": [
    {
     "data": {
      "text/plain": [
       "'3.12ff'"
      ]
     },
     "execution_count": 10,
     "metadata": {},
     "output_type": "execute_result"
    }
   ],
   "source": [
    "homework2.arithmetic(3.12,\"ff\")"
   ]
  },
  {
   "cell_type": "code",
   "execution_count": 13,
   "id": "4b5603bb-c823-4cae-86e2-f0b52de4cdc1",
   "metadata": {},
   "outputs": [
    {
     "name": "stderr",
     "output_type": "stream",
     "text": [
      "....\n",
      "----------------------------------------------------------------------\n",
      "Ran 4 tests in 0.002s\n",
      "\n",
      "OK\n"
     ]
    },
    {
     "name": "stdout",
     "output_type": "stream",
     "text": [
      "4 successes out of 4 tests run\n",
      "Score: 100%\n"
     ]
    }
   ],
   "source": [
    "import grade"
   ]
  },
  {
   "cell_type": "code",
   "execution_count": null,
   "id": "ba45e244-9636-4613-a0eb-a593aa51a673",
   "metadata": {},
   "outputs": [],
   "source": []
  }
 ],
 "metadata": {
  "kernelspec": {
   "display_name": "Python [conda env:base] *",
   "language": "python",
   "name": "conda-base-py"
  },
  "language_info": {
   "codemirror_mode": {
    "name": "ipython",
    "version": 3
   },
   "file_extension": ".py",
   "mimetype": "text/x-python",
   "name": "python",
   "nbconvert_exporter": "python",
   "pygments_lexer": "ipython3",
   "version": "3.13.5"
  }
 },
 "nbformat": 4,
 "nbformat_minor": 5
}
